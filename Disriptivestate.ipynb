{
  "nbformat": 4,
  "nbformat_minor": 0,
  "metadata": {
    "colab": {
      "provenance": []
    },
    "kernelspec": {
      "name": "python3",
      "display_name": "Python 3"
    },
    "language_info": {
      "name": "python"
    }
  },
  "cells": [
    {
      "cell_type": "markdown",
      "source": [
        "\n",
        "## **Measures of Central Tendency:**\n",
        "\n",
        "**Advantages:**\n",
        "\n",
        "Provides a single representative value for the dataset.\n",
        "Easy to understand and interpret.\n",
        "Useful for summarizing large datasets.\n",
        "\n",
        "**Disadvantages:**\n",
        "\n",
        "Sensitive to outliers.\n",
        "May not accurately represent the center of skewed distributions.\n",
        "\n",
        "**Description:** The sum of all values divided by the total number of values\n",
        "\n",
        "Python Code Example:"
      ],
      "metadata": {
        "id": "zwCrv23IhKR_"
      }
    },
    {
      "cell_type": "code",
      "execution_count": 11,
      "metadata": {
        "colab": {
          "base_uri": "https://localhost:8080/"
        },
        "id": "_iQjAvqnhIJw",
        "outputId": "7e99045d-c66d-4d20-e1d6-87aa1d88938f"
      },
      "outputs": [
        {
          "output_type": "stream",
          "name": "stdout",
          "text": [
            "Mean: 36.0\n",
            "Median: 20.0\n",
            "Mode: 20\n",
            "Mean_maths: 36.0\n",
            "Median_maths: 20\n",
            "Mode_maths: 20\n"
          ]
        }
      ],
      "source": [
        "import numpy as np\n",
        "\n",
        "# Sample dataset\n",
        "data = np.array([10, 20, 80, 20, 50])\n",
        "\n",
        "# mathematical implimentation\n",
        "\n",
        "mean_value_maths = sum(data) / len(data)\n",
        "\n",
        "# Mean calculation\n",
        "mean_value = np.mean(data)\n",
        "\n",
        "# Median calculation\n",
        "sorted_data = sorted(data)\n",
        "n = len(sorted_data)\n",
        "if n % 2 == 0:\n",
        "    median_value_maths = (sorted_data[n//2 - 1] + sorted_data[n//2]) / 2\n",
        "else:\n",
        "    median_value_maths = sorted_data[n//2]\n",
        "\n",
        "# Median calculation\n",
        "median_value = np.median(data)\n",
        "\n",
        "# Mode calculation\n",
        "from collections import Counter\n",
        "mode_value_maths = Counter(data).most_common(1)[0][0]\n",
        "\n",
        "\n",
        "# Mode calculation (using scipy library)\n",
        "from scipy import stats\n",
        "mode_value = stats.mode(data)\n",
        "\n",
        "print(\"Mean:\", mean_value)\n",
        "print(\"Mean_maths:\", mean_value_maths)\n",
        "print(\"Median:\", median_value)\n",
        "print(\"Median_maths:\", median_value_maths)\n",
        "print(\"Mode:\", mode_value.mode)\n",
        "print(\"Mode_maths:\", mode_value_maths)\n"
      ]
    },
    {
      "cell_type": "markdown",
      "source": [
        "## **Measures of Dispersion:**\n",
        "\n",
        "**Advantages:**\n",
        "\n",
        "Quantifies the spread or variability of the data.\n",
        "Useful for assessing the consistency or variability of observations.\n",
        "\n",
        "**Disadvantages:**\n",
        "\n",
        "Sensitive to extreme values.\n",
        "May not fully capture the distribution's shape.\n",
        "Python Code Example:"
      ],
      "metadata": {
        "id": "xK8TNUyShcRz"
      }
    },
    {
      "cell_type": "code",
      "source": [
        "import numpy as np\n",
        "\n",
        "# Sample dataset\n",
        "data = np.array([10, 20, 30, 40, 50])\n",
        "\n",
        "# Variance calculation_maths\n",
        "mean_value = sum(data) / len(data)\n",
        "variance_value_maths = sum((x - mean_value) ** 2 for x in data) / len(data)\n",
        "\n",
        "\n",
        "# Variance calculation\n",
        "variance_value = np.var(data)\n",
        "\n",
        "# Standard deviation calculation\n",
        "std_deviation_value_maths = (sum((x - mean_value) ** 2 for x in data) / len(data)) ** 0.5\n",
        "\n",
        "\n",
        "# Standard deviation calculation\n",
        "std_deviation_value = np.std(data)\n",
        "\n",
        "print(\"Variance:\", variance_value)\n",
        "print(\"Variance_maths:\", variance_value_maths)\n",
        "print(\"Standard Deviation:\", std_deviation_value)\n",
        "print(\"Standard Deviation_maths:\", std_deviation_value_maths)"
      ],
      "metadata": {
        "colab": {
          "base_uri": "https://localhost:8080/"
        },
        "id": "B-uMKcFUhnLO",
        "outputId": "b8abdd83-cf7b-4d49-f42d-7f5a4b4b4f8d"
      },
      "execution_count": 12,
      "outputs": [
        {
          "output_type": "stream",
          "name": "stdout",
          "text": [
            "Variance: 200.0\n",
            "Variance_maths: 200.0\n",
            "Standard Deviation: 14.142135623730951\n",
            "Standard Deviation_maths: 14.142135623730951\n"
          ]
        }
      ]
    },
    {
      "cell_type": "markdown",
      "source": [
        "## **Measures of Shape:**\n",
        "\n",
        "**Advantages:**\n",
        "\n",
        "Describes the asymmetry and peakedness of the data distribution.\n",
        "Helps in identifying non-normal distributions.\n",
        "\n",
        "**Disadvantages:**\n",
        "\n",
        "Interpretation may be challenging for non-statisticians.\n",
        "Limited applicability for datasets with complex distributions.\n",
        "\n",
        "Python Code Example:"
      ],
      "metadata": {
        "id": "jgxzKW6AhuYX"
      }
    },
    {
      "cell_type": "code",
      "source": [
        "import pandas as pd\n",
        "\n",
        "# Sample dataset\n",
        "data = pd.Series([10, 20, 30, 40, 50])\n",
        "\n",
        "# Skewness calculation_maths\n",
        "mean_value_maths = sum(data) / len(data)\n",
        "variance_value_maths = sum((x - mean_value_maths) ** 2 for x in data) / len(data)\n",
        "skewness_value_maths = sum((x - mean_value_maths) ** 3 for x in data) / (len(data) * (variance_value ** 1.5))\n",
        "\n",
        "# Skewness calculation\n",
        "skewness_value = data.skew()\n",
        "\n",
        "# Kurtosis calculation\n",
        "kurtosis_value = data.kurtosis()\n",
        "\n",
        "# Kurtosis calculation_maths\n",
        "mean_value_maths = sum(data) / len(data)\n",
        "variance_value_maths = sum((x - mean_value) ** 2 for x in data) / len(data)\n",
        "kurtosis_value_maths = sum((x - mean_value) ** 4 for x in data) / (len(data) * (variance_value ** 2)) - 3\n",
        "\n",
        "print(\"Skewness_maths:\", skewness_value_maths)\n",
        "print(\"Kurtosis_maths:\", kurtosis_value_maths)\n",
        "print(\"Skewness:\", skewness_value)\n",
        "print(\"Kurtosis:\", kurtosis_value)\n"
      ],
      "metadata": {
        "colab": {
          "base_uri": "https://localhost:8080/"
        },
        "id": "l-1Q_9bRh1Os",
        "outputId": "0b8b827a-fd9f-487e-f229-7e49dc577110"
      },
      "execution_count": 13,
      "outputs": [
        {
          "output_type": "stream",
          "name": "stdout",
          "text": [
            "Skewness_maths: 0.0\n",
            "Kurtosis_maths: -1.3\n",
            "Skewness: 0.0\n",
            "Kurtosis: -1.2000000000000002\n"
          ]
        }
      ]
    },
    {
      "cell_type": "markdown",
      "source": [
        "## **Frequency Distributions:**\n",
        "\n",
        "**Advantages:**\n",
        "\n",
        "Visualizes the distribution of data.\n",
        "Helps in identifying patterns and trends.\n",
        "\n",
        "**Disadvantages:**\n",
        "\n",
        "Bin size selection can impact interpretation.\n",
        "Limited in capturing fine-grained variations in data.\n",
        "Python Code Example:"
      ],
      "metadata": {
        "id": "DPCt92Ozh_xL"
      }
    },
    {
      "cell_type": "code",
      "source": [
        "import matplotlib.pyplot as plt\n",
        "\n",
        "# Sample dataset\n",
        "data = [10, 20, 20, 30, 30, 30, 40, 40, 50, 50]\n",
        "\n",
        "# Plotting histogram\n",
        "plt.hist(data, bins=5, edgecolor='black')\n",
        "plt.xlabel('Value')\n",
        "plt.ylabel('Frequency')\n",
        "plt.title('Histogram of Data')\n",
        "plt.show()\n"
      ],
      "metadata": {
        "colab": {
          "base_uri": "https://localhost:8080/",
          "height": 472
        },
        "id": "_6xlZ9GBh4EI",
        "outputId": "5a119e11-fa73-4aec-ae7f-058a51d705d0"
      },
      "execution_count": 14,
      "outputs": [
        {
          "output_type": "display_data",
          "data": {
            "text/plain": [
              "<Figure size 640x480 with 1 Axes>"
            ],
            "image/png": "[encoded data removed]"
          },
          "metadata": {}
        }
      ]
    },
    {
      "cell_type": "code",
      "source": [],
      "metadata": {
        "id": "kW5BRF-VwBgf"
      },
      "execution_count": null,
      "outputs": []
    }
  ]
}